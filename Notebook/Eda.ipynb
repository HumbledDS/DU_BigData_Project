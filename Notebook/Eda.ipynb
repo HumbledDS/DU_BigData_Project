{
 "cells": [
  {
   "cell_type": "markdown",
   "metadata": {},
   "source": [
    "# PROJET DATA – DU PYTHON\n"
   ]
  },
  {
   "cell_type": "markdown",
   "metadata": {},
   "source": [
    "#### Plan du Projet DATA :\n",
    "\n",
    "_____________________________________________________________\n",
    "\n",
    "1. Traitement de données : compréhension des données, analyse de la \n",
    "complétude et de la conformité des données, contrôles de cohérence\n",
    "(univarié/multivarié), gestion des anomalies : mise en place de correctif, \n",
    "exclusions, etc.\n",
    "2. Jointures éventuelles de bases et contrôles \n",
    "3. Analyses descriptives des données : univariée, multivariée, ASD\n",
    "4. Analyse graphique (data visualisation) + Interfaçage via Shiny for Python \n",
    "5. Modélisation : supervisée (régression, classification) vs non supervisée ; \n",
    "paramétrique (économétriques) vs non paramétriques (machine learning)\n",
    "6. Analyse des résultats : interprétation, explications \n",
    "7. Application : prévision, tarification, etc.\n",
    "\n",
    "\n",
    "\n",
    "- Understanding the Problem Statement\n",
    "- Data Collection\n",
    "- Data Checks to perform\n",
    "- Exploratory data analysis\n",
    "- Data Pre-Processing\n",
    "- Model Training\n",
    "- Choose best model"
   ]
  },
  {
   "cell_type": "markdown",
   "metadata": {},
   "source": [
    "## 1) Data Preprocessing\n",
    "### 2.1 Problem statement\n",
    "- Our project revolves around harnessing the potential of recently acquired insurance databases. The objective is to extract meaningful insights and actionable information to enhance our understanding of the insurance landscape.\n",
    "- Given the constraints and in line with industry standards, we have chosen Python as our primary tool for data analysis. Python's versatility and extensive libraries, such as Pandas, NumPy, and Scikit-learn, will be crucial in efficiently handling, processing, and analyzing the vast amounts of insurance data at our disposal.\n",
    "\n",
    "\n",
    "### 2) Data Collection\n",
    "- Dataset Source - https://www.kaggle.com/datasets/spscientist/students-performance-in-exams?datasetId=74977\n",
    "- The data consists of 8 column and 1000 rows."
   ]
  },
  {
   "cell_type": "markdown",
   "metadata": {},
   "source": [
    "### 2.1 Import Data and Required Packages\n",
    "####  Importing Pandas, Numpy, Matplotlib, Seaborn and Warings Library."
   ]
  },
  {
   "cell_type": "code",
   "execution_count": 15,
   "metadata": {},
   "outputs": [],
   "source": [
    "import numpy as np\n",
    "import pandas as pd\n",
    "import seaborn as sns\n",
    "import matplotlib.pyplot as plt\n",
    "%matplotlib inline\n",
    "import warnings\n",
    "warnings.filterwarnings('ignore')"
   ]
  },
  {
   "cell_type": "markdown",
   "metadata": {},
   "source": [
    "#### Import the CSV Data as Pandas DataFrame"
   ]
  },
  {
   "cell_type": "code",
   "execution_count": 16,
   "metadata": {},
   "outputs": [],
   "source": [
    "# Read DB_SIN.txt\n",
    "sin_df = pd.read_csv('data/DB_SIN.txt', delimiter='\\t')  # Assuming it's a tab-separated file\n",
    "\n",
    "# Read DB_CNT.xlsx from the sheet named 'DB_CNT'\n",
    "cnt_df = pd.read_excel('data/DB_CNT.xlsx', sheet_name='DB_CNT')\n",
    "\n",
    "# Read DB_Telematics.csv\n",
    "telematics_df = pd.read_csv('data/DB_Telematics.csv', delimiter=';')\n"
   ]
  },
  {
   "cell_type": "code",
   "execution_count": 17,
   "metadata": {},
   "outputs": [
    {
     "data": {
      "text/html": [
       "<div>\n",
       "<style scoped>\n",
       "    .dataframe tbody tr th:only-of-type {\n",
       "        vertical-align: middle;\n",
       "    }\n",
       "\n",
       "    .dataframe tbody tr th {\n",
       "        vertical-align: top;\n",
       "    }\n",
       "\n",
       "    .dataframe thead th {\n",
       "        text-align: right;\n",
       "    }\n",
       "</style>\n",
       "<table border=\"1\" class=\"dataframe\">\n",
       "  <thead>\n",
       "    <tr style=\"text-align: right;\">\n",
       "      <th></th>\n",
       "      <th>Id_pol</th>\n",
       "      <th>NB_Claim</th>\n",
       "      <th>AMT_Claim</th>\n",
       "    </tr>\n",
       "  </thead>\n",
       "  <tbody>\n",
       "    <tr>\n",
       "      <th>0</th>\n",
       "      <td>212433</td>\n",
       "      <td>1</td>\n",
       "      <td>1137,079102</td>\n",
       "    </tr>\n",
       "    <tr>\n",
       "      <th>1</th>\n",
       "      <td>124370</td>\n",
       "      <td>1</td>\n",
       "      <td>3170,102051</td>\n",
       "    </tr>\n",
       "    <tr>\n",
       "      <th>2</th>\n",
       "      <td>208357</td>\n",
       "      <td>1</td>\n",
       "      <td>3753,909668</td>\n",
       "    </tr>\n",
       "    <tr>\n",
       "      <th>3</th>\n",
       "      <td>141403</td>\n",
       "      <td>1</td>\n",
       "      <td>16,03637695</td>\n",
       "    </tr>\n",
       "    <tr>\n",
       "      <th>4</th>\n",
       "      <td>173366</td>\n",
       "      <td>1</td>\n",
       "      <td>41774,71289</td>\n",
       "    </tr>\n",
       "  </tbody>\n",
       "</table>\n",
       "</div>"
      ],
      "text/plain": [
       "   Id_pol NB_Claim    AMT_Claim\n",
       "0  212433        1  1137,079102\n",
       "1  124370        1  3170,102051\n",
       "2  208357        1  3753,909668\n",
       "3  141403        1  16,03637695\n",
       "4  173366        1  41774,71289"
      ]
     },
     "execution_count": 17,
     "metadata": {},
     "output_type": "execute_result"
    }
   ],
   "source": [
    "sin_df.head()"
   ]
  },
  {
   "cell_type": "code",
   "execution_count": 18,
   "metadata": {},
   "outputs": [
    {
     "name": "stdout",
     "output_type": "stream",
     "text": [
      "DB_SIN.txt DataFrame:\n",
      "<class 'pandas.core.frame.DataFrame'>\n",
      "RangeIndex: 4337 entries, 0 to 4336\n",
      "Data columns (total 3 columns):\n",
      " #   Column     Non-Null Count  Dtype \n",
      "---  ------     --------------  ----- \n",
      " 0   Id_pol     4337 non-null   int64 \n",
      " 1   NB_Claim   4337 non-null   object\n",
      " 2   AMT_Claim  4337 non-null   object\n",
      "dtypes: int64(1), object(2)\n",
      "memory usage: 101.8+ KB\n",
      "None\n"
     ]
    }
   ],
   "source": [
    "print(\"DB_SIN.txt DataFrame:\")\n",
    "print(sin_df.info())"
   ]
  },
  {
   "cell_type": "code",
   "execution_count": 19,
   "metadata": {},
   "outputs": [
    {
     "name": "stdout",
     "output_type": "stream",
     "text": [
      "Unique values in 'NB_Claim':\n",
      "['1' '2' 'NB_CLAIM:1' 'NB_CLAIM:2' '3']\n"
     ]
    }
   ],
   "source": [
    "numeric_summary = sin_df['NB_Claim'].describe()\n",
    "numeric_summary\n",
    "unique_values = sin_df['NB_Claim'].unique()\n",
    "\n",
    "# Display the unique values\n",
    "print(\"Unique values in 'NB_Claim':\")\n",
    "print(unique_values)"
   ]
  },
  {
   "cell_type": "code",
   "execution_count": 20,
   "metadata": {},
   "outputs": [
    {
     "name": "stdout",
     "output_type": "stream",
     "text": [
      "Unique values in 'NB_Claim':\n",
      "['1' '2' '3']\n"
     ]
    }
   ],
   "source": [
    "# Replace specific values in 'NB_Claim'\n",
    "sin_df['NB_Claim'] = sin_df['NB_Claim'].replace({'NB_CLAIM:1': '1', 'NB_CLAIM:2': '2'})\n",
    "\n",
    "unique_values = sin_df['NB_Claim'].unique()\n",
    "print(\"Unique values in 'NB_Claim':\")\n",
    "print(unique_values)\n"
   ]
  },
  {
   "cell_type": "code",
   "execution_count": 21,
   "metadata": {},
   "outputs": [
    {
     "name": "stdout",
     "output_type": "stream",
     "text": [
      "Numeric Summary:\n",
      "              Id_pol\n",
      "count    4337.000000\n",
      "mean   170183.869264\n",
      "std     29131.411617\n",
      "min    100210.000000\n",
      "25%    145343.000000\n",
      "50%    170597.000000\n",
      "75%    195469.000000\n",
      "max    221064.000000\n",
      "\n",
      "Object Summary:\n",
      "       NB_Claim AMT_Claim\n",
      "count      4337      4337\n",
      "unique        3      3851\n",
      "top           1         0\n",
      "freq       4154       436\n"
     ]
    }
   ],
   "source": [
    "# Display descriptive statistics for numeric columns\n",
    "numeric_summary = sin_df.describe()\n",
    "\n",
    "# Display summary for object columns\n",
    "object_summary = sin_df.describe(include='object')\n",
    "\n",
    "# Display the results\n",
    "print(\"Numeric Summary:\")\n",
    "print(numeric_summary)\n",
    "\n",
    "print(\"\\nObject Summary:\")\n",
    "print(object_summary)\n"
   ]
  },
  {
   "cell_type": "code",
   "execution_count": 22,
   "metadata": {},
   "outputs": [
    {
     "name": "stdout",
     "output_type": "stream",
     "text": [
      "Unique values and their counts in 'AMT_Claim':\n",
      "AMT_Claim\n",
      "0              436\n",
      "ANN             37\n",
      "279,9525146      9\n",
      "477,3110047      7\n",
      "1710,054932      2\n",
      "              ... \n",
      "9324,375         1\n",
      "1164,303863      1\n",
      "1625,644409      1\n",
      "4381,549073      1\n",
      "6034,40625       1\n",
      "Name: count, Length: 3851, dtype: int64\n"
     ]
    }
   ],
   "source": [
    "# Display unique values and their counts in 'AMT_Claim'\n",
    "unique_values_counts = sin_df['AMT_Claim'].value_counts(dropna=False)\n",
    "\n",
    "# Display the results\n",
    "print(\"Unique values and their counts in 'AMT_Claim':\")\n",
    "print(unique_values_counts)\n"
   ]
  },
  {
   "cell_type": "code",
   "execution_count": 23,
   "metadata": {},
   "outputs": [
    {
     "data": {
      "text/html": [
       "<div>\n",
       "<style scoped>\n",
       "    .dataframe tbody tr th:only-of-type {\n",
       "        vertical-align: middle;\n",
       "    }\n",
       "\n",
       "    .dataframe tbody tr th {\n",
       "        vertical-align: top;\n",
       "    }\n",
       "\n",
       "    .dataframe thead th {\n",
       "        text-align: right;\n",
       "    }\n",
       "</style>\n",
       "<table border=\"1\" class=\"dataframe\">\n",
       "  <thead>\n",
       "    <tr style=\"text-align: right;\">\n",
       "      <th></th>\n",
       "      <th>Id_pol</th>\n",
       "      <th>NB_Claim</th>\n",
       "      <th>AMT_Claim</th>\n",
       "    </tr>\n",
       "  </thead>\n",
       "  <tbody>\n",
       "    <tr>\n",
       "      <th>0</th>\n",
       "      <td>212433</td>\n",
       "      <td>1</td>\n",
       "      <td>1137,079102</td>\n",
       "    </tr>\n",
       "    <tr>\n",
       "      <th>1</th>\n",
       "      <td>124370</td>\n",
       "      <td>1</td>\n",
       "      <td>3170,102051</td>\n",
       "    </tr>\n",
       "    <tr>\n",
       "      <th>2</th>\n",
       "      <td>208357</td>\n",
       "      <td>1</td>\n",
       "      <td>3753,909668</td>\n",
       "    </tr>\n",
       "    <tr>\n",
       "      <th>3</th>\n",
       "      <td>141403</td>\n",
       "      <td>1</td>\n",
       "      <td>16,03637695</td>\n",
       "    </tr>\n",
       "    <tr>\n",
       "      <th>4</th>\n",
       "      <td>173366</td>\n",
       "      <td>1</td>\n",
       "      <td>41774,71289</td>\n",
       "    </tr>\n",
       "  </tbody>\n",
       "</table>\n",
       "</div>"
      ],
      "text/plain": [
       "   Id_pol NB_Claim    AMT_Claim\n",
       "0  212433        1  1137,079102\n",
       "1  124370        1  3170,102051\n",
       "2  208357        1  3753,909668\n",
       "3  141403        1  16,03637695\n",
       "4  173366        1  41774,71289"
      ]
     },
     "execution_count": 23,
     "metadata": {},
     "output_type": "execute_result"
    }
   ],
   "source": [
    "sin_df.head()"
   ]
  },
  {
   "cell_type": "code",
   "execution_count": 24,
   "metadata": {},
   "outputs": [],
   "source": [
    "# Convert 'AMT_Claim' to numeric (replace 'ANN' with 0)\n",
    "sin_df['AMT_Claim'] = sin_df['AMT_Claim'].replace({'ANN': '0'})\n",
    "\n",
    "# Extract the part before the comma and convert to numeric\n",
    "sin_df['AMT_Claim'] = sin_df['AMT_Claim'].astype(str).str.split(',').str[0]\n",
    "sin_df['AMT_Claim'] = pd.to_numeric(sin_df['AMT_Claim'], errors='coerce')"
   ]
  },
  {
   "cell_type": "code",
   "execution_count": 25,
   "metadata": {},
   "outputs": [
    {
     "name": "stdout",
     "output_type": "stream",
     "text": [
      "Unique values and their counts in 'AMT_Claim':\n",
      "AMT_Claim\n",
      "0       474\n",
      "279      12\n",
      "477      10\n",
      "293       6\n",
      "299       5\n",
      "       ... \n",
      "703       1\n",
      "202       1\n",
      "4163      1\n",
      "2438      1\n",
      "6034      1\n",
      "Name: count, Length: 2887, dtype: int64\n"
     ]
    }
   ],
   "source": [
    "# Display unique values and their counts in 'AMT_Claim'\n",
    "unique_values_counts = sin_df['AMT_Claim'].value_counts(dropna=False)\n",
    "\n",
    "# Display the results\n",
    "print(\"Unique values and their counts in 'AMT_Claim':\")\n",
    "print(unique_values_counts)"
   ]
  },
  {
   "cell_type": "code",
   "execution_count": 26,
   "metadata": {},
   "outputs": [],
   "source": [
    "# Convert 'NB_Claim' to numeric (replace ',' with '.' if needed)\n",
    "sin_df['NB_Claim'] = pd.to_numeric(sin_df['NB_Claim'].str.replace(',', '.'), errors='coerce')"
   ]
  },
  {
   "cell_type": "code",
   "execution_count": 27,
   "metadata": {},
   "outputs": [
    {
     "name": "stdout",
     "output_type": "stream",
     "text": [
      "DB_SIN.txt DataFrame:\n",
      "<class 'pandas.core.frame.DataFrame'>\n",
      "RangeIndex: 4337 entries, 0 to 4336\n",
      "Data columns (total 3 columns):\n",
      " #   Column     Non-Null Count  Dtype\n",
      "---  ------     --------------  -----\n",
      " 0   Id_pol     4337 non-null   int64\n",
      " 1   NB_Claim   4337 non-null   int64\n",
      " 2   AMT_Claim  4337 non-null   int64\n",
      "dtypes: int64(3)\n",
      "memory usage: 101.8 KB\n",
      "None\n"
     ]
    }
   ],
   "source": [
    "print(\"DB_SIN.txt DataFrame:\")\n",
    "print(sin_df.info())"
   ]
  },
  {
   "cell_type": "code",
   "execution_count": 28,
   "metadata": {},
   "outputs": [
    {
     "name": "stdout",
     "output_type": "stream",
     "text": [
      "\n",
      "DB_CNT.xlsx DataFrame:\n",
      "<class 'pandas.core.frame.DataFrame'>\n",
      "RangeIndex: 100399 entries, 0 to 100398\n",
      "Data columns (total 12 columns):\n",
      " #   Column              Non-Null Count   Dtype  \n",
      "---  ------              --------------   -----  \n",
      " 0   Id_pol              100399 non-null  int64  \n",
      " 1   Duration            100399 non-null  int64  \n",
      " 2   Insured.age         100399 non-null  int64  \n",
      " 3   Insured.sex         100399 non-null  object \n",
      " 4   Car.age             100399 non-null  int64  \n",
      " 5   Marital             100307 non-null  object \n",
      " 6   Car.use             100399 non-null  object \n",
      " 7   Credit.score        100399 non-null  float64\n",
      " 8   Region              100271 non-null  object \n",
      " 9   Annual.miles.drive  100399 non-null  float64\n",
      " 10  Years.noclaims      100399 non-null  object \n",
      " 11  Territory           100399 non-null  int64  \n",
      "dtypes: float64(2), int64(5), object(5)\n",
      "memory usage: 9.2+ MB\n",
      "None\n"
     ]
    }
   ],
   "source": [
    "print(\"\\nDB_CNT.xlsx DataFrame:\")\n",
    "print(cnt_df.info())\n"
   ]
  },
  {
   "cell_type": "markdown",
   "metadata": {},
   "source": [
    "Duration : Duration of the insurance coverage of a given policy, in days  \n",
    "Insured.age : Age of insured driver, in years  \n",
    "Insured.sex : Sex of insured driver (Male/Female)  \n",
    "Car.age : Age of vehicle, in years  \n",
    "Marital : Marital status (Single/Married)  \n",
    "Car.use : Use of vehicle: Private, Commute, Farmer, Commercial  \n",
    "Credit.score : Credit score of insured driver  \n",
    "Region  : Type of region where driver lives: rural, urban  \n",
    "Annual.miles.drive : Annual miles expected to be driven declared by driver  \n",
    "Years.noclaims : Number of years without any claims  \n",
    "Territory : Territorial location of vehicle  "
   ]
  },
  {
   "cell_type": "markdown",
   "metadata": {},
   "source": [
    "Conditions to meet :   \n",
    "• Duration is the period that policyholder is insured in days, with values in [22,366].  \n",
    "• Insured.age is the age of insured driver in integral years, with values in [16,103].  \n",
    "• Car.age is the age of vehicle, with values in [-2,20]. Negative values are rare but are possible as buying a newer model can be up to two years in advance.  \n",
    "• Years.noclaims is the number of years without any claims, with values in [0, 79] and\n",
    "always less than Insured.age.  \n",
    "• Territory is the territorial location code of vehicle, which has 55 labels in {11,12,13,· · · ,91}.  "
   ]
  },
  {
   "cell_type": "code",
   "execution_count": 41,
   "metadata": {},
   "outputs": [
    {
     "name": "stdout",
     "output_type": "stream",
     "text": [
      "Unique values in 'Insured.sex':\n",
      "['Female' 'F' 'Male' 'H' 'Unknown']\n",
      "\n",
      "Unique values in 'Marital':\n",
      "['Single' 'Married' 'Celib' 'Marié' nan]\n",
      "\n",
      "Unique values in 'Car.use':\n",
      "['Private' 'Commute' 25 'Commercial' 'Farmer' ' ' 14 47 100 54 21 80 95 8\n",
      " 10 74 94 26 17 34 29 96 78 11 1 6 19 69 85 52 42 88 72 99 24 84 15 71 53\n",
      " 40 64 9 59 55 46 82 66 0 32 39 36 23 51 '  ' '??' 92 57 22 65 87 63 35 16\n",
      " 62 50 90 70 3 12 5 68 75 4 18 76 2 89 83 7 73 77 27 91 61 20 '???' 33 93\n",
      " 13 38 45 81 '?' 86 48 49 60 97 58 43 67 '     ' 44 37 '????' 41 28 'Inc'\n",
      " 30 'Ukwn' 31]\n",
      "\n",
      "Unique values in 'Region':\n",
      "['Urban' 'Rural' nan]\n",
      "\n",
      "Unique values in 'Years.noclaims':\n",
      "[40 4 41 37 8 6 57 23 28 54 3 10 21 30 66 43 13 31 17 32 26 34 25 27 45 33\n",
      " 24 11 51 39 22 15 46 19 20 5 44 42 36 29 59 62 55 58 12 1 9 50 47 2 48\n",
      " 'EAJ' 35 18 49 7 56 14 38 52 63 67 16 53 65 0 61 64 60 68 69 72 70 74 73\n",
      " 76 75 71 77 78 79 85 82 80]\n",
      "\n"
     ]
    }
   ],
   "source": [
    "# Filter object variables\n",
    "object_columns = cnt_df.select_dtypes(include='object').columns\n",
    "\n",
    "# Display unique values for each object variable\n",
    "for column in object_columns:\n",
    "    unique_values = cnt_df[column].unique()\n",
    "    print(f\"Unique values in '{column}':\")\n",
    "    print(unique_values)\n",
    "    print()"
   ]
  },
  {
   "cell_type": "markdown",
   "metadata": {},
   "source": [
    "Insured.Sec => Male, Female  \n",
    "Marital : Single, Maried  \n",
    "Car use : ?  \n",
    "Region : Urban, Rural  \n",
    "Year.noclaims : EAJ > 0   "
   ]
  },
  {
   "cell_type": "code",
   "execution_count": 47,
   "metadata": {},
   "outputs": [
    {
     "name": "stdout",
     "output_type": "stream",
     "text": [
      "Count of unique values in 'Insured.sex':\n",
      "Insured.sex\n",
      "Male      54210\n",
      "Female    46189\n",
      "Name: count, dtype: int64\n",
      "\n",
      "Count of unique values in 'Marital':\n",
      "Marital\n",
      "Married    70133\n",
      "Single     30174\n",
      "Name: count, dtype: int64\n"
     ]
    }
   ],
   "source": [
    "# Count occurrences of unique values in 'Insured.sex'\n",
    "sex_counts = cnt_df['Insured.sex'].value_counts()\n",
    "\n",
    "# Display the result\n",
    "print(\"Count of unique values in 'Insured.sex':\")\n",
    "print(sex_counts)\n",
    "print()\n",
    "\n",
    "# Count occurrences of unique values in 'Marital'\n",
    "marital_counts = cnt_df['Marital'].value_counts()\n",
    "\n",
    "# Display the result\n",
    "print(\"Count of unique values in 'Marital':\")\n",
    "print(marital_counts)\n"
   ]
  },
  {
   "cell_type": "code",
   "execution_count": 44,
   "metadata": {},
   "outputs": [
    {
     "name": "stdout",
     "output_type": "stream",
     "text": [
      "Count of unique values in 'Insured.sex' after mapping:\n",
      "Insured.sex\n",
      "Male      54210\n",
      "Female    46189\n",
      "Name: count, dtype: int64\n"
     ]
    }
   ],
   "source": [
    "# Map values in 'Insured.sex'\n",
    "sex_mapping = {'Male': ['Male', 'H', 'Unknown'], 'Female': ['Female', 'F']}\n",
    "\n",
    "# Replace values in 'Insured.sex'\n",
    "for category, values in sex_mapping.items():\n",
    "    cnt_df['Insured.sex'] = cnt_df['Insured.sex'].replace(values, category)\n",
    "\n",
    "# Verify the result\n",
    "sex_counts_after_mapping = cnt_df['Insured.sex'].value_counts()\n",
    "print(\"Count of unique values in 'Insured.sex' after mapping:\")\n",
    "print(sex_counts_after_mapping)"
   ]
  },
  {
   "cell_type": "code",
   "execution_count": 45,
   "metadata": {},
   "outputs": [
    {
     "name": "stdout",
     "output_type": "stream",
     "text": [
      "Count of unique values in 'Marital' after mapping:\n",
      "Marital\n",
      "Married    70133\n",
      "Single     30174\n",
      "Name: count, dtype: int64\n"
     ]
    }
   ],
   "source": [
    "# Map values in 'Marital'\n",
    "marital_mapping = {'Single': ['Single', 'Celib'], 'Married': ['Married', 'Marié']}\n",
    "\n",
    "# Replace values in 'Marital'\n",
    "for category, values in marital_mapping.items():\n",
    "    cnt_df['Marital'] = cnt_df['Marital'].replace(values, category)\n",
    "\n",
    "# Verify the result\n",
    "marital_counts_after_mapping = cnt_df['Marital'].value_counts()\n",
    "print(\"Count of unique values in 'Marital' after mapping:\")\n",
    "print(marital_counts_after_mapping)"
   ]
  },
  {
   "cell_type": "code",
   "execution_count": 32,
   "metadata": {},
   "outputs": [
    {
     "name": "stdout",
     "output_type": "stream",
     "text": [
      "Unique values in 'Years.noclaims':\n",
      "[40 4 41 37 8 6 57 23 28 54 3 10 21 30 66 43 13 31 17 32 26 34 25 27 45 33\n",
      " 24 11 51 39 22 15 46 19 20 5 44 42 36 29 59 62 55 58 12 1 9 50 47 2 48\n",
      " 'EAJ' 35 18 49 7 56 14 38 52 63 67 16 53 65 0 61 64 60 68 69 72 70 74 73\n",
      " 76 75 71 77 78 79 85 82 80]\n"
     ]
    }
   ],
   "source": []
  },
  {
   "cell_type": "code",
   "execution_count": 50,
   "metadata": {},
   "outputs": [
    {
     "name": "stdout",
     "output_type": "stream",
     "text": [
      "Unique values and their counts in 'Years.noclaims':\n",
      "Years.noclaims\n",
      "9     2436\n",
      "8     2428\n",
      "7     2254\n",
      "10    2195\n",
      "37    2111\n",
      "      ... \n",
      "78       3\n",
      "85       2\n",
      "79       1\n",
      "82       1\n",
      "80       1\n",
      "Name: count, Length: 84, dtype: int64\n"
     ]
    }
   ],
   "source": [
    "# Display unique values and their counts in 'Years.noclaims'\n",
    "unique_values_counts = cnt_df['Years.noclaims'].value_counts(dropna=False)\n",
    "\n",
    "# Display the results\n",
    "print(\"Unique values and their counts in 'Years.noclaims':\")\n",
    "print(unique_values_counts)"
   ]
  },
  {
   "cell_type": "code",
   "execution_count": 51,
   "metadata": {},
   "outputs": [
    {
     "name": "stdout",
     "output_type": "stream",
     "text": [
      "Number of occurrences of 'EAJ': 36\n"
     ]
    }
   ],
   "source": [
    "# Count occurrences of 'EAJ' in 'Years.noclaims'\n",
    "eaj_count = cnt_df['Years.noclaims'].eq('EAJ').sum()\n",
    "\n",
    "# Display the result\n",
    "print(\"Number of occurrences of 'EAJ':\", eaj_count)"
   ]
  },
  {
   "cell_type": "markdown",
   "metadata": {},
   "source": [
    "Years.noclaims must be in [0,79].  \n",
    "Years.noclaims is the number of years without any claims, with values in [0, 79] and\n",
    "always less than Insured.age.\n",
    "We will add 'EAJ' to 1 and all the occurances from greater than 79 years will be added back to 79."
   ]
  },
  {
   "cell_type": "code",
   "execution_count": 52,
   "metadata": {},
   "outputs": [
    {
     "name": "stdout",
     "output_type": "stream",
     "text": [
      "Summary of 'Years.noclaims' after modifications:\n",
      "count    100399.000000\n",
      "mean         28.856493\n",
      "std          16.153134\n",
      "min           0.000000\n",
      "25%          15.000000\n",
      "50%          29.000000\n",
      "75%          41.000000\n",
      "max          79.000000\n",
      "Name: Years.noclaims, dtype: float64\n"
     ]
    }
   ],
   "source": [
    "# Replace 'EAJ' with 1\n",
    "cnt_df['Years.noclaims'] = cnt_df['Years.noclaims'].replace('EAJ', 1)\n",
    "\n",
    "# Convert 'Years.noclaims' to numeric\n",
    "cnt_df['Years.noclaims'] = pd.to_numeric(cnt_df['Years.noclaims'], errors='coerce')\n",
    "\n",
    "# Replace values greater than 79 with 79\n",
    "cnt_df['Years.noclaims'] = cnt_df['Years.noclaims'].where(cnt_df['Years.noclaims'] <= 79, 79)\n",
    "\n",
    "# Verify the result\n",
    "years_noclaims_summary = cnt_df['Years.noclaims'].describe()\n",
    "print(\"Summary of 'Years.noclaims' after modifications:\")\n",
    "print(years_noclaims_summary)"
   ]
  },
  {
   "cell_type": "markdown",
   "metadata": {},
   "source": [
    "Years.noclaims must always be less than insured.age"
   ]
  },
  {
   "cell_type": "code",
   "execution_count": 53,
   "metadata": {},
   "outputs": [
    {
     "name": "stdout",
     "output_type": "stream",
     "text": [
      "There are values in 'Years.noclaims' greater than or equal to 'Insured.age'.\n"
     ]
    }
   ],
   "source": [
    "# Perform the test\n",
    "test_result = (cnt_df['Years.noclaims'] < cnt_df['Insured.age']).all()\n",
    "\n",
    "# Display the result\n",
    "if test_result:\n",
    "    print(\"All values in 'Years.noclaims' are less than 'Insured.age'.\")\n",
    "else:\n",
    "    print(\"There are values in 'Years.noclaims' greater than or equal to 'Insured.age'.\")"
   ]
  },
  {
   "cell_type": "code",
   "execution_count": 54,
   "metadata": {},
   "outputs": [
    {
     "name": "stdout",
     "output_type": "stream",
     "text": [
      "Values in 'Years.noclaims' greater than or equal to 'Insured.age':\n",
      "       Years.noclaims  Insured.age\n",
      "14                 66           66\n",
      "290                63           63\n",
      "298                49           49\n",
      "3394               69           69\n",
      "3485               51           51\n",
      "...               ...          ...\n",
      "94557              59           59\n",
      "94567              21           21\n",
      "95216              47           47\n",
      "98241              47           47\n",
      "99893              29           29\n",
      "\n",
      "[127 rows x 2 columns]\n"
     ]
    }
   ],
   "source": [
    "# Identify values in 'Years.noclaims' greater than 'Insured.age'\n",
    "greater_values = cnt_df.loc[cnt_df['Years.noclaims'] >= cnt_df['Insured.age'], ['Years.noclaims', 'Insured.age']]\n",
    "\n",
    "# Display the identified values\n",
    "print(\"Values in 'Years.noclaims' greater than or equal to 'Insured.age':\")\n",
    "print(greater_values)"
   ]
  },
  {
   "cell_type": "code",
   "execution_count": 55,
   "metadata": {},
   "outputs": [
    {
     "name": "stdout",
     "output_type": "stream",
     "text": [
      "\n",
      "DB_CNT.xlsx DataFrame:\n",
      "<class 'pandas.core.frame.DataFrame'>\n",
      "RangeIndex: 100399 entries, 0 to 100398\n",
      "Data columns (total 12 columns):\n",
      " #   Column              Non-Null Count   Dtype  \n",
      "---  ------              --------------   -----  \n",
      " 0   Id_pol              100399 non-null  int64  \n",
      " 1   Duration            100399 non-null  int64  \n",
      " 2   Insured.age         100399 non-null  int64  \n",
      " 3   Insured.sex         100399 non-null  object \n",
      " 4   Car.age             100399 non-null  int64  \n",
      " 5   Marital             100307 non-null  object \n",
      " 6   Car.use             100399 non-null  object \n",
      " 7   Credit.score        100399 non-null  float64\n",
      " 8   Region              100271 non-null  object \n",
      " 9   Annual.miles.drive  100399 non-null  float64\n",
      " 10  Years.noclaims      100399 non-null  int64  \n",
      " 11  Territory           100399 non-null  int64  \n",
      "dtypes: float64(2), int64(6), object(4)\n",
      "memory usage: 9.2+ MB\n",
      "None\n"
     ]
    }
   ],
   "source": [
    "print(\"\\nDB_CNT.xlsx DataFrame:\")\n",
    "print(cnt_df.info())\n"
   ]
  },
  {
   "cell_type": "code",
   "execution_count": 48,
   "metadata": {},
   "outputs": [
    {
     "name": "stdout",
     "output_type": "stream",
     "text": [
      "\n",
      "DB_CNT.xlsx DataFrame:\n",
      "<class 'pandas.core.frame.DataFrame'>\n",
      "RangeIndex: 100399 entries, 0 to 100398\n",
      "Data columns (total 12 columns):\n",
      " #   Column              Non-Null Count   Dtype  \n",
      "---  ------              --------------   -----  \n",
      " 0   Id_pol              100399 non-null  int64  \n",
      " 1   Duration            100399 non-null  int64  \n",
      " 2   Insured.age         100399 non-null  int64  \n",
      " 3   Insured.sex         100399 non-null  object \n",
      " 4   Car.age             100399 non-null  int64  \n",
      " 5   Marital             100307 non-null  object \n",
      " 6   Car.use             100399 non-null  object \n",
      " 7   Credit.score        100399 non-null  float64\n",
      " 8   Region              100271 non-null  object \n",
      " 9   Annual.miles.drive  100399 non-null  float64\n",
      " 10  Years.noclaims      100399 non-null  object \n",
      " 11  Territory           100399 non-null  int64  \n",
      "dtypes: float64(2), int64(5), object(5)\n",
      "memory usage: 9.2+ MB\n",
      "None\n"
     ]
    }
   ],
   "source": [
    "print(\"\\nDB_CNT.xlsx DataFrame:\")\n",
    "print(cnt_df.info())\n"
   ]
  },
  {
   "cell_type": "code",
   "execution_count": 42,
   "metadata": {},
   "outputs": [
    {
     "name": "stdout",
     "output_type": "stream",
     "text": [
      "\n",
      "DB_Telematics.csv DataFrame:\n",
      "<class 'pandas.core.frame.DataFrame'>\n",
      "RangeIndex: 100332 entries, 0 to 100331\n",
      "Data columns (total 40 columns):\n",
      " #   Column                  Non-Null Count   Dtype  \n",
      "---  ------                  --------------   -----  \n",
      " 0   Id_pol                  100332 non-null  object \n",
      " 1   Annual.pct.driven       100332 non-null  object \n",
      " 2   Total.miles.driven      100332 non-null  object \n",
      " 3   Pct.drive.mon           100332 non-null  object \n",
      " 4   Pct.drive.tue           100332 non-null  object \n",
      " 5   Pct.drive.wed           100332 non-null  object \n",
      " 6   Pct.drive.thr           100332 non-null  object \n",
      " 7   Pct.drive.fri           100332 non-null  object \n",
      " 8   Pct.drive.sat           100332 non-null  object \n",
      " 9   Pct.drive.sun           100332 non-null  object \n",
      " 10  Pct.drive.2hrs          100332 non-null  object \n",
      " 11  Pct.drive.3hrs          100332 non-null  object \n",
      " 12  Pct.drive.4hrs          100332 non-null  object \n",
      " 13  Pct.drive.wkday         100332 non-null  object \n",
      " 14  Pct.drive.wkend         100332 non-null  object \n",
      " 15  Pct.drive.rush am       100332 non-null  object \n",
      " 16  Pct.drive.rush pm       100332 non-null  object \n",
      " 17  Avgdays.week            100332 non-null  object \n",
      " 18  Accel.06miles           100332 non-null  float64\n",
      " 19  Accel.08miles           100332 non-null  float64\n",
      " 20  Accel.09miles           100332 non-null  float64\n",
      " 21  Accel.11miles           100332 non-null  float64\n",
      " 22  Accel.12miles           100332 non-null  float64\n",
      " 23  Accel.14miles           100332 non-null  float64\n",
      " 24  Brake.06miles           100332 non-null  float64\n",
      " 25  Brake.08miles           100332 non-null  float64\n",
      " 26  Brake.09miles           100332 non-null  float64\n",
      " 27  Brake.11miles           100332 non-null  float64\n",
      " 28  Brake.12miles           100332 non-null  float64\n",
      " 29  Brake.14miles           100332 non-null  float64\n",
      " 30  Left.turn.intensity08   100332 non-null  float64\n",
      " 31  Left.turn.intensity09   100332 non-null  float64\n",
      " 32  Left.turn.intensity10   100332 non-null  float64\n",
      " 33  Left.turn.intensity11   100332 non-null  float64\n",
      " 34  Left.turn.intensity12   100332 non-null  float64\n",
      " 35  Right.turn.intensity08  100332 non-null  float64\n",
      " 36  Right.turn.intensity09  100332 non-null  float64\n",
      " 37  Right.turn.intensity10  100332 non-null  float64\n",
      " 38  Right.turn.intensity11  100332 non-null  float64\n",
      " 39  Right.turn.intensity12  100332 non-null  float64\n",
      "dtypes: float64(22), object(18)\n",
      "memory usage: 30.6+ MB\n",
      "None\n"
     ]
    }
   ],
   "source": [
    "print(\"\\nDB_Telematics.csv DataFrame:\")\n",
    "print(telematics_df.info())"
   ]
  },
  {
   "cell_type": "markdown",
   "metadata": {},
   "source": [
    "Conditions to meet for TELEMATICS.csv :  \n",
    "• Annual.pct.driven is the number of day a policyholder uses vehicle divided by 365, with\n",
    "values in [0,1.1].  \n",
    "• Pct.drive.mon, · · · , Pct.drive.sun are compositional variables meaning that the sum\n",
    "of seven (days of the week) variables is 100%.  \n",
    "• Pct.drive.wkday and Pct.drive.wkend are clearly compositional variables too.  \n"
   ]
  },
  {
   "cell_type": "code",
   "execution_count": null,
   "metadata": {},
   "outputs": [],
   "source": [
    "# Convert 'Id_pol' in DB_Telematics.csv to int64\n",
    "telematics_df['Id_pol'] = pd.to_numeric(telematics_df['Id_pol'].str.replace('cnt_', ''), errors='coerce', downcast='integer').astype('int64')\n"
   ]
  },
  {
   "cell_type": "code",
   "execution_count": null,
   "metadata": {},
   "outputs": [],
   "source": [
    "# List of object-type columns to convert to float64\n",
    "object_columns_to_convert = [\n",
    "    'Annual.pct.driven', 'Total.miles.driven', 'Pct.drive.mon', 'Pct.drive.tue',\n",
    "    'Pct.drive.wed', 'Pct.drive.thr', 'Pct.drive.fri', 'Pct.drive.sat',\n",
    "    'Pct.drive.sun', 'Pct.drive.2hrs', 'Pct.drive.3hrs', 'Pct.drive.4hrs',\n",
    "    'Pct.drive.wkday', 'Pct.drive.wkend', 'Pct.drive.rush am', 'Pct.drive.rush pm',\n",
    "    'Avgdays.week'\n",
    "]\n",
    "\n",
    "# Replace commas with dots and convert to float64\n",
    "telematics_df[object_columns_to_convert] = telematics_df[object_columns_to_convert].replace(',', '.', regex=True).astype('float64')\n",
    "\n",
    "# Display the updated DataFrame\n",
    "print(telematics_df.info())\n"
   ]
  }
 ],
 "metadata": {
  "kernelspec": {
   "display_name": "Python 3",
   "language": "python",
   "name": "python3"
  },
  "language_info": {
   "codemirror_mode": {
    "name": "ipython",
    "version": 3
   },
   "file_extension": ".py",
   "mimetype": "text/x-python",
   "name": "python",
   "nbconvert_exporter": "python",
   "pygments_lexer": "ipython3",
   "version": "3.12.0"
  }
 },
 "nbformat": 4,
 "nbformat_minor": 2
}
